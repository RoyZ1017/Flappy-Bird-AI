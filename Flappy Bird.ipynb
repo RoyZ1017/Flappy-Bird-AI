{
 "cells": [
  {
   "cell_type": "markdown",
   "id": "1677bcf7",
   "metadata": {},
   "source": [
    "# Import Dependencies"
   ]
  },
  {
   "cell_type": "code",
   "execution_count": 2,
   "id": "51cc5031",
   "metadata": {},
   "outputs": [],
   "source": [
    "import gym \n",
    "from gym import Env\n",
    "from gym.spaces import Discrete, Box, Dict, Tuple, MultiBinary, MultiDiscrete \n",
    "\n",
    "import numpy as np\n",
    "import random\n",
    "import math\n",
    "import os\n",
    "\n",
    "\n",
    "from stable_baselines3.common.env_checker import check_env\n",
    "from stable_baselines3 import PPO\n",
    "from stable_baselines3 import DQN\n",
    "from stable_baselines3.common.vec_env import VecFrameStack\n",
    "from stable_baselines3.common.evaluation import evaluate_policy\n",
    "\n",
    "import pygame\n",
    "\n",
    "import time"
   ]
  },
  {
   "cell_type": "markdown",
   "id": "0a17292d",
   "metadata": {},
   "source": [
    "# Initialize Constants"
   ]
  },
  {
   "cell_type": "code",
   "execution_count": 3,
   "id": "316f4bf2",
   "metadata": {},
   "outputs": [],
   "source": [
    "FPS = 60\n",
    "HEIGHT = 500\n",
    "WIDTH = 500\n",
    "START_X = 100\n",
    "START_Y = int(HEIGHT / 2)\n",
    "PIPE_GAP = 125\n",
    "MIN_PIPE_HEIGHT = 100\n",
    "GENERATE_PIPE_X = 600\n",
    "PIPE_DISTANCE = 250\n",
    "JUMP_HEIGHT = 25\n",
    "FALL_HEIGHT = 7.5\n",
    "# JUMP_HEIGHT = 15\n",
    "# FALL_HEIGHT = 20\n",
    "PIPE_WIDTH = 50\n",
    "BIRD_WIDTH = 100\n",
    "BIRD_HEIGHT = 100\n",
    "TEXT_BUFFER = 25\n",
    "\n",
    "# colours\n",
    "BLUE = (164, 219, 232)\n",
    "BLACK = (0, 0, 0)"
   ]
  },
  {
   "cell_type": "markdown",
   "id": "df8d3b75",
   "metadata": {},
   "source": [
    "# Create Environment "
   ]
  },
  {
   "cell_type": "code",
   "execution_count": 4,
   "id": "68b62b12",
   "metadata": {},
   "outputs": [],
   "source": [
    "class FlappyBirdEnv(gym.Env):\n",
    "    def __init__(self, display=False):\n",
    "        pygame.init()\n",
    "        \n",
    "        # if display is true render the GUI\n",
    "        self.display = display\n",
    "        if self.display:\n",
    "            self.WINDOW = pygame.display.set_mode((WIDTH, HEIGHT))\n",
    "            pygame.display.set_caption(\"Flappy Bird\")\n",
    "            self.clock = pygame.time.Clock()\n",
    "        \n",
    "        # 2 actions --> jump, don't jump\n",
    "        self.action_space = Discrete(2)\n",
    "        # y_coord of bird, distance from nearest pipe, height of nearest bottom pipe\n",
    "        self.observation_space = Box(0, 600, shape=(3, 1), dtype=int)\n",
    "        self.iterations = 0\n",
    "        \n",
    "        self.reset()\n",
    "    \n",
    "    def game_over(self):\n",
    "        # set game over to true if bird goes out of bounds\n",
    "        if self.bird_y >= HEIGHT or self.bird_y <= 0:\n",
    "            return True\n",
    "        # set game over to true if bird hits the pipe\n",
    "        if self.next_pipes[self.curr_pipe][0] <= self.bird_x <= self.next_pipes[self.curr_pipe][0] + PIPE_WIDTH and \\\n",
    "        (not HEIGHT - self.next_pipes[self.curr_pipe][1] >= self.bird_y >= HEIGHT - self.next_pipes[self.curr_pipe][1] - PIPE_GAP):\n",
    "            return True\n",
    "        return False\n",
    "        \n",
    "    # generate a new pipe and append it to next_pipes\n",
    "    def generate_new_pipe(self):\n",
    "        new_pipe_height = random.randint(MIN_PIPE_HEIGHT, HEIGHT - PIPE_GAP - MIN_PIPE_HEIGHT)\n",
    "        self.next_pipes.append([GENERATE_PIPE_X, new_pipe_height])\n",
    "        return self.next_pipes\n",
    "    \n",
    "    def step(self, action):\n",
    "        if self.display:\n",
    "            self.render()\n",
    "            \n",
    "        new_pipes = []\n",
    "        # decrement x_coord of pipes\n",
    "        # delete pipes that are off the screen\n",
    "        for i in range(len(self.next_pipes)):\n",
    "            self.next_pipes[i][0] -= 5\n",
    "            if self.next_pipes[i][0] >= -(PIPE_WIDTH):\n",
    "                new_pipes.append(self.next_pipes[i].copy())\n",
    "            else:\n",
    "                self.curr_pipe -= 1\n",
    "        self.next_pipes = new_pipes.copy()\n",
    "        \n",
    "        # generate new pipe\n",
    "        if self.next_pipes[-1][0] <= GENERATE_PIPE_X - PIPE_DISTANCE:\n",
    "            self.generate_new_pipe()\n",
    "        \n",
    "        # jumps\n",
    "        if action == 0:\n",
    "            self.bird_y -= JUMP_HEIGHT\n",
    "        # does nothing\n",
    "        else:\n",
    "            self.bird_y += FALL_HEIGHT\n",
    "        \n",
    "        # calculate reward\n",
    "        done = self.game_over()\n",
    "        # reward is -1000 if the bird dies\n",
    "        if done:\n",
    "            reward = -1000\n",
    "        # reward is 1 if bird survives\n",
    "        else:\n",
    "            reward = 1\n",
    "        \n",
    "        # increment curr_pipe and set reward to 15 if bird passes the pipe\n",
    "        if self.bird_x > self.next_pipes[self.curr_pipe][0] + PIPE_WIDTH:\n",
    "            reward = 15\n",
    "            self.score += 10\n",
    "            self.curr_pipe += 1\n",
    "        \n",
    "        # update state\n",
    "        self.state = [[self.bird_y], [self.next_pipes[self.curr_pipe][0]], [HEIGHT - self.next_pipes[self.curr_pipe][1]]]\n",
    "        self.prev_action = action\n",
    "        info = {}\n",
    "        \n",
    "        return np.array(self.state), reward, done, info\n",
    "    \n",
    "    # renders the GUI\n",
    "    def render(self):\n",
    "        self.WINDOW.fill(BLUE)\n",
    "        for event in pygame.event.get():\n",
    "            self.clock.tick(FPS)\n",
    "            # close window when exit button is clicked\n",
    "            if event.type == pygame.QUIT:\n",
    "                pygame.quit()\n",
    "            \n",
    "        # draw bird\n",
    "        bird_img = pygame.image.load('flappy bird.png').convert_alpha()\n",
    "        bird_img = pygame.transform.smoothscale(bird_img, (50, 50))\n",
    "        self.WINDOW.blit(bird_img, (self.bird_x, self.bird_y))\n",
    "        \n",
    "        # draw pipes\n",
    "        for pipe in self.next_pipes:\n",
    "            pipe1 = pygame.image.load('pipe.jpg').convert_alpha()\n",
    "            pipe1 =  pygame.transform.smoothscale(pipe1, (PIPE_WIDTH, pipe[1])) \n",
    "            pipe2 = pygame.image.load('pipe.jpg').convert_alpha()\n",
    "            pipe2 = pygame.transform.rotate(pipe2, 180)\n",
    "            pipe2 = pygame.transform.smoothscale(pipe2, (PIPE_WIDTH, HEIGHT - pipe[1] - PIPE_GAP)) \n",
    "            \n",
    "            self.WINDOW.blit(pipe1, (pipe[0], HEIGHT - pipe[1]))\n",
    "            self.WINDOW.blit(pipe2, (pipe[0], 0))\n",
    "        \n",
    "        # display score and number of iterations\n",
    "        FONT = pygame.font.Font('freesansbold.ttf', 20)\n",
    "        text = FONT.render(f\"Score: {self.score}\", True, BLACK)\n",
    "        self.WINDOW.blit(text, (TEXT_BUFFER, TEXT_BUFFER))\n",
    "\n",
    "        text = FONT.render(f\"Iterations: {self.iterations}\", True, BLACK)\n",
    "        self.WINDOW.blit(text, (WIDTH - 200, TEXT_BUFFER))\n",
    "        \n",
    "        pygame.display.update()\n",
    "    \n",
    "    # reset all variables to their initial value and restart the game\n",
    "    def reset(self):\n",
    "        self.score = 0\n",
    "        self.bird_x = START_X\n",
    "        self.bird_y = START_Y\n",
    "        self.next_pipes = []\n",
    "        self.generate_new_pipe()\n",
    "        self.prev_action = 0\n",
    "        self.state = [[START_Y], [GENERATE_PIPE_X], [self.next_pipes[0][1]]]\n",
    "        self.curr_pipe = 0\n",
    "        self.iterations += 1\n",
    "        \n",
    "        return np.array(self.state)\n",
    "    "
   ]
  },
  {
   "cell_type": "markdown",
   "id": "094abb69",
   "metadata": {},
   "source": [
    "# Test Environment"
   ]
  },
  {
   "cell_type": "code",
   "execution_count": 25,
   "id": "252c05f5",
   "metadata": {},
   "outputs": [],
   "source": [
    "env = FlappyBirdEnv()"
   ]
  },
  {
   "cell_type": "code",
   "execution_count": 26,
   "id": "07a7c4ae",
   "metadata": {},
   "outputs": [
    {
     "data": {
      "text/plain": [
       "array([[460],\n",
       "       [ 22],\n",
       "       [575]])"
      ]
     },
     "execution_count": 26,
     "metadata": {},
     "output_type": "execute_result"
    }
   ],
   "source": [
    "# sample of observation space\n",
    "env.observation_space.sample()"
   ]
  },
  {
   "cell_type": "code",
   "execution_count": 27,
   "id": "42f95e8e",
   "metadata": {},
   "outputs": [
    {
     "data": {
      "text/plain": [
       "1"
      ]
     },
     "execution_count": 27,
     "metadata": {},
     "output_type": "execute_result"
    }
   ],
   "source": [
    "# sample of action space\n",
    "env.action_space.sample()"
   ]
  },
  {
   "cell_type": "code",
   "execution_count": 28,
   "id": "018c2715",
   "metadata": {},
   "outputs": [
    {
     "data": {
      "text/plain": [
       "[[250], [600], [229]]"
      ]
     },
     "execution_count": 28,
     "metadata": {},
     "output_type": "execute_result"
    }
   ],
   "source": [
    "# sample of current state\n",
    "env.state"
   ]
  },
  {
   "cell_type": "code",
   "execution_count": 29,
   "id": "ee45a6d3",
   "metadata": {},
   "outputs": [
    {
     "data": {
      "text/plain": [
       "(array([[257.5],\n",
       "        [595. ],\n",
       "        [271. ]]),\n",
       " 1,\n",
       " False,\n",
       " {})"
      ]
     },
     "execution_count": 29,
     "metadata": {},
     "output_type": "execute_result"
    }
   ],
   "source": [
    "# return value of step function\n",
    "env.step(1)"
   ]
  },
  {
   "cell_type": "code",
   "execution_count": 78,
   "id": "78563d26",
   "metadata": {
    "scrolled": true
   },
   "outputs": [
    {
     "name": "stdout",
     "output_type": "stream",
     "text": [
      "Episode:1 Score:0 Reward Score:-911\n",
      "Episode:2 Score:0 Reward Score:-911\n",
      "Episode:3 Score:0 Reward Score:-911\n",
      "Episode:4 Score:0 Reward Score:-911\n",
      "Episode:5 Score:0 Reward Score:-911\n"
     ]
    }
   ],
   "source": [
    "# performance if random steps are taken\n",
    "env = FlappyBirdEnv(display=True)\n",
    "episodes = 5\n",
    "env.iterations = 0\n",
    "for episode in range(1, episodes+1):\n",
    "    state = env.reset()\n",
    "    done = False\n",
    "    env.score = 0\n",
    "    reward_score = 0\n",
    "    \n",
    "    while not done:\n",
    "        time.sleep(0.001)\n",
    "        action = env.action_space.sample()\n",
    "        n_state, reward, done, info = env.step(action)\n",
    "        reward_score += reward\n",
    "    print(f\"Episode:{episode} Score:{env.score} Reward Score:{reward_score}\")\n",
    "\n",
    "env.close()\n",
    "pygame.quit()"
   ]
  },
  {
   "cell_type": "markdown",
   "id": "dfb42805",
   "metadata": {},
   "source": [
    "# Train Model"
   ]
  },
  {
   "cell_type": "code",
   "execution_count": null,
   "id": "1ca1ffa0",
   "metadata": {},
   "outputs": [],
   "source": [
    "env = FlappyBirdEnv(display=False)\n",
    "model = PPO(\"MlpPolicy\", env, verbose=1, learning_rate=0.000005)\n",
    "model.learn(total_timesteps=4000000)\n",
    "model.save('PPO FLAPPY BIRD 4MIL')"
   ]
  },
  {
   "cell_type": "code",
   "execution_count": 26,
   "id": "12176c2e",
   "metadata": {},
   "outputs": [],
   "source": [
    "pygame.quit()"
   ]
  },
  {
   "cell_type": "markdown",
   "id": "3a1d6bbc",
   "metadata": {},
   "source": [
    "# Test Model"
   ]
  },
  {
   "cell_type": "code",
   "execution_count": 135,
   "id": "618936ea",
   "metadata": {},
   "outputs": [],
   "source": [
    "# save the model\n",
    "model.save('PPO FLAPPY BIRD 4MIL')"
   ]
  },
  {
   "cell_type": "code",
   "execution_count": null,
   "id": "305e5097",
   "metadata": {},
   "outputs": [],
   "source": [
    "# test the ai\n",
    "env = FlappyBirdEnv(display=True)\n",
    "model = PPO.load('PPO FLAPPY BIRD 4MIL', env=env)\n",
    "episodes = 5\n",
    "env.iterations = 0\n",
    "for episode in range(1, episodes+1):\n",
    "    state = env.reset()\n",
    "    done = False\n",
    "    env.score = 0\n",
    "    reward_score = 0 \n",
    "    \n",
    "    start_time = time.time()\n",
    "    while not done:\n",
    "        time.sleep(0.001)\n",
    "        action, _ = model.predict(state)\n",
    "        state, reward, done, info = env.step(action)\n",
    "        reward_score += reward\n",
    "    print(f\"Episode:{episode} Score:{env.score} Reward Score:{reward_score}\")\n",
    "    print(time.time() - start_time)\n",
    "\n",
    "pygame.quit()"
   ]
  },
  {
   "cell_type": "code",
   "execution_count": null,
   "id": "f36832b4",
   "metadata": {},
   "outputs": [],
   "source": [
    "'''\n",
    "Performance: Generally performs well and can reach scores of over 2000\n",
    "Areas of Imrovement: On odd ocassions the AI will die before reaching the first pipe(rare cases) not exactly sure why this\n",
    "is but I believe that further training would stabilize the model\n",
    "'''"
   ]
  }
 ],
 "metadata": {
  "kernelspec": {
   "display_name": "Python 3 (ipykernel)",
   "language": "python",
   "name": "python3"
  },
  "language_info": {
   "codemirror_mode": {
    "name": "ipython",
    "version": 3
   },
   "file_extension": ".py",
   "mimetype": "text/x-python",
   "name": "python",
   "nbconvert_exporter": "python",
   "pygments_lexer": "ipython3",
   "version": "3.9.12"
  }
 },
 "nbformat": 4,
 "nbformat_minor": 5
}
